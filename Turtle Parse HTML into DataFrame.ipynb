{
 "cells": [
  {
   "cell_type": "markdown",
   "metadata": {},
   "source": [
    "# Import Libaries"
   ]
  },
  {
   "cell_type": "code",
   "execution_count": 232,
   "metadata": {},
   "outputs": [],
   "source": [
    "import re\n",
    "import pandas as pd\n",
    "from bs4 import BeautifulSoup\n",
    "import requests"
   ]
  },
  {
   "cell_type": "code",
   "execution_count": 233,
   "metadata": {},
   "outputs": [],
   "source": [
    "webpage_response = requests.get('https://content.codecademy.com/courses/beautifulsoup/shellter.html')\n",
    "\n",
    "\n",
    "prefix = \"https://content.codecademy.com/courses/beautifulsoup/\"\n",
    "webpage = webpage_response.content\n",
    "soup = BeautifulSoup(webpage, \"html.parser\")\n",
    "\n",
    "turtle_links = soup.find_all(\"a\")\n",
    "links = []\n",
    "#go through all of the a tags and get the links associated with them\"\n",
    "for a in turtle_links:\n",
    "  links.append(prefix+a[\"href\"])\n",
    "    \n",
    "#Define turtle_data:\n",
    "turtle_data = {}\n",
    "\n",
    "#follow each link:\n",
    "for link in links:\n",
    "  webpage = requests.get(link)\n",
    "  turtle = BeautifulSoup(webpage.content, \"html.parser\")\n",
    "  turtle_name = turtle.select(\".name\")[0].get_text()\n",
    "  \n",
    "  stats = turtle.find(\"ul\")\n",
    "  stats_text = stats.get_text(\"|\")\n",
    "  turtle_data[turtle_name] = stats_text.split('|')\n",
    "\n",
    "import pandas\n",
    "\n",
    "turtle_df = pd.DataFrame.from_dict(turtle_data,orient =\"index\")\n"
   ]
  },
  {
   "cell_type": "code",
   "execution_count": 234,
   "metadata": {},
   "outputs": [],
   "source": [
    "columns = ['Age','Weight','Sex','Breed','Source']"
   ]
  },
  {
   "cell_type": "code",
   "execution_count": 235,
   "metadata": {
    "scrolled": true
   },
   "outputs": [
    {
     "data": {
      "text/html": [
       "<div>\n",
       "<style scoped>\n",
       "    .dataframe tbody tr th:only-of-type {\n",
       "        vertical-align: middle;\n",
       "    }\n",
       "\n",
       "    .dataframe tbody tr th {\n",
       "        vertical-align: top;\n",
       "    }\n",
       "\n",
       "    .dataframe thead th {\n",
       "        text-align: right;\n",
       "    }\n",
       "</style>\n",
       "<table border=\"1\" class=\"dataframe\">\n",
       "  <thead>\n",
       "    <tr style=\"text-align: right;\">\n",
       "      <th></th>\n",
       "      <th>0</th>\n",
       "      <th>1</th>\n",
       "      <th>2</th>\n",
       "      <th>3</th>\n",
       "      <th>4</th>\n",
       "      <th>5</th>\n",
       "      <th>6</th>\n",
       "      <th>7</th>\n",
       "      <th>8</th>\n",
       "      <th>9</th>\n",
       "      <th>10</th>\n",
       "    </tr>\n",
       "  </thead>\n",
       "  <tbody>\n",
       "    <tr>\n",
       "      <th>Aesop</th>\n",
       "      <td>\\n</td>\n",
       "      <td>AGE: 7 Years Old</td>\n",
       "      <td>\\n</td>\n",
       "      <td>WEIGHT: 6 lbs</td>\n",
       "      <td>\\n</td>\n",
       "      <td>SEX: Female</td>\n",
       "      <td>\\n</td>\n",
       "      <td>BREED: African Aquatic Sideneck Turtle</td>\n",
       "      <td>\\n</td>\n",
       "      <td>SOURCE: found in Lake Erie</td>\n",
       "      <td>\\n</td>\n",
       "    </tr>\n",
       "    <tr>\n",
       "      <th>Caesar</th>\n",
       "      <td>\\n</td>\n",
       "      <td>AGE: 2 Years Old</td>\n",
       "      <td>\\n</td>\n",
       "      <td>WEIGHT: 4 lbs</td>\n",
       "      <td>\\n</td>\n",
       "      <td>SEX: Male</td>\n",
       "      <td>\\n</td>\n",
       "      <td>BREED: Greek Tortoise</td>\n",
       "      <td>\\n</td>\n",
       "      <td>SOURCE: hatched in house</td>\n",
       "      <td>\\n</td>\n",
       "    </tr>\n",
       "    <tr>\n",
       "      <th>Sulla</th>\n",
       "      <td>\\n</td>\n",
       "      <td>AGE: 1 Year Old</td>\n",
       "      <td>\\n</td>\n",
       "      <td>WEIGHT: 1 lb</td>\n",
       "      <td>\\n</td>\n",
       "      <td>SEX: Male</td>\n",
       "      <td>\\n</td>\n",
       "      <td>BREED: African Aquatic Sideneck Turtle</td>\n",
       "      <td>\\n</td>\n",
       "      <td>SOURCE: found in Lake Erie</td>\n",
       "      <td>\\n</td>\n",
       "    </tr>\n",
       "    <tr>\n",
       "      <th>Spyro</th>\n",
       "      <td>\\n</td>\n",
       "      <td>AGE: 6 Years Old</td>\n",
       "      <td>\\n</td>\n",
       "      <td>WEIGHT: 3 lbs</td>\n",
       "      <td>\\n</td>\n",
       "      <td>SEX: Female</td>\n",
       "      <td>\\n</td>\n",
       "      <td>BREED: Greek Tortoise</td>\n",
       "      <td>\\n</td>\n",
       "      <td>SOURCE: hatched in house</td>\n",
       "      <td>\\n</td>\n",
       "    </tr>\n",
       "    <tr>\n",
       "      <th>Zelda</th>\n",
       "      <td>\\n</td>\n",
       "      <td>AGE: 3 Years Old</td>\n",
       "      <td>\\n</td>\n",
       "      <td>WEIGHT: 2 lbs</td>\n",
       "      <td>\\n</td>\n",
       "      <td>SEX: Female</td>\n",
       "      <td>\\n</td>\n",
       "      <td>BREED: Eastern Box Turtle</td>\n",
       "      <td>\\n</td>\n",
       "      <td>SOURCE: surrendered by owner</td>\n",
       "      <td>\\n</td>\n",
       "    </tr>\n",
       "  </tbody>\n",
       "</table>\n",
       "</div>"
      ],
      "text/plain": [
       "        0                 1   2              3   4            5   6   \\\n",
       "Aesop   \\n  AGE: 7 Years Old  \\n  WEIGHT: 6 lbs  \\n  SEX: Female  \\n   \n",
       "Caesar  \\n  AGE: 2 Years Old  \\n  WEIGHT: 4 lbs  \\n    SEX: Male  \\n   \n",
       "Sulla   \\n   AGE: 1 Year Old  \\n   WEIGHT: 1 lb  \\n    SEX: Male  \\n   \n",
       "Spyro   \\n  AGE: 6 Years Old  \\n  WEIGHT: 3 lbs  \\n  SEX: Female  \\n   \n",
       "Zelda   \\n  AGE: 3 Years Old  \\n  WEIGHT: 2 lbs  \\n  SEX: Female  \\n   \n",
       "\n",
       "                                            7   8   \\\n",
       "Aesop   BREED: African Aquatic Sideneck Turtle  \\n   \n",
       "Caesar                   BREED: Greek Tortoise  \\n   \n",
       "Sulla   BREED: African Aquatic Sideneck Turtle  \\n   \n",
       "Spyro                    BREED: Greek Tortoise  \\n   \n",
       "Zelda                BREED: Eastern Box Turtle  \\n   \n",
       "\n",
       "                                  9   10  \n",
       "Aesop     SOURCE: found in Lake Erie  \\n  \n",
       "Caesar      SOURCE: hatched in house  \\n  \n",
       "Sulla     SOURCE: found in Lake Erie  \\n  \n",
       "Spyro       SOURCE: hatched in house  \\n  \n",
       "Zelda   SOURCE: surrendered by owner  \\n  "
      ]
     },
     "execution_count": 235,
     "metadata": {},
     "output_type": "execute_result"
    }
   ],
   "source": [
    "turtle_df.head()"
   ]
  },
  {
   "cell_type": "markdown",
   "metadata": {},
   "source": [
    "#### Drop the columns that are empty."
   ]
  },
  {
   "cell_type": "code",
   "execution_count": 236,
   "metadata": {},
   "outputs": [],
   "source": [
    "turtle_df.drop(labels=[0,2,4,6,8,10], axis=1, inplace=True)"
   ]
  },
  {
   "cell_type": "markdown",
   "metadata": {},
   "source": [
    "##### Assing names of the columns to numbers"
   ]
  },
  {
   "cell_type": "code",
   "execution_count": 237,
   "metadata": {},
   "outputs": [],
   "source": [
    "turtle_df.columns = columns"
   ]
  },
  {
   "cell_type": "code",
   "execution_count": 238,
   "metadata": {
    "scrolled": true
   },
   "outputs": [
    {
     "data": {
      "text/html": [
       "<div>\n",
       "<style scoped>\n",
       "    .dataframe tbody tr th:only-of-type {\n",
       "        vertical-align: middle;\n",
       "    }\n",
       "\n",
       "    .dataframe tbody tr th {\n",
       "        vertical-align: top;\n",
       "    }\n",
       "\n",
       "    .dataframe thead th {\n",
       "        text-align: right;\n",
       "    }\n",
       "</style>\n",
       "<table border=\"1\" class=\"dataframe\">\n",
       "  <thead>\n",
       "    <tr style=\"text-align: right;\">\n",
       "      <th></th>\n",
       "      <th>Age</th>\n",
       "      <th>Weight</th>\n",
       "      <th>Sex</th>\n",
       "      <th>Breed</th>\n",
       "      <th>Source</th>\n",
       "    </tr>\n",
       "  </thead>\n",
       "  <tbody>\n",
       "    <tr>\n",
       "      <th>Aesop</th>\n",
       "      <td>AGE: 7 Years Old</td>\n",
       "      <td>WEIGHT: 6 lbs</td>\n",
       "      <td>SEX: Female</td>\n",
       "      <td>BREED: African Aquatic Sideneck Turtle</td>\n",
       "      <td>SOURCE: found in Lake Erie</td>\n",
       "    </tr>\n",
       "    <tr>\n",
       "      <th>Caesar</th>\n",
       "      <td>AGE: 2 Years Old</td>\n",
       "      <td>WEIGHT: 4 lbs</td>\n",
       "      <td>SEX: Male</td>\n",
       "      <td>BREED: Greek Tortoise</td>\n",
       "      <td>SOURCE: hatched in house</td>\n",
       "    </tr>\n",
       "    <tr>\n",
       "      <th>Sulla</th>\n",
       "      <td>AGE: 1 Year Old</td>\n",
       "      <td>WEIGHT: 1 lb</td>\n",
       "      <td>SEX: Male</td>\n",
       "      <td>BREED: African Aquatic Sideneck Turtle</td>\n",
       "      <td>SOURCE: found in Lake Erie</td>\n",
       "    </tr>\n",
       "    <tr>\n",
       "      <th>Spyro</th>\n",
       "      <td>AGE: 6 Years Old</td>\n",
       "      <td>WEIGHT: 3 lbs</td>\n",
       "      <td>SEX: Female</td>\n",
       "      <td>BREED: Greek Tortoise</td>\n",
       "      <td>SOURCE: hatched in house</td>\n",
       "    </tr>\n",
       "    <tr>\n",
       "      <th>Zelda</th>\n",
       "      <td>AGE: 3 Years Old</td>\n",
       "      <td>WEIGHT: 2 lbs</td>\n",
       "      <td>SEX: Female</td>\n",
       "      <td>BREED: Eastern Box Turtle</td>\n",
       "      <td>SOURCE: surrendered by owner</td>\n",
       "    </tr>\n",
       "    <tr>\n",
       "      <th>Bandicoot</th>\n",
       "      <td>AGE: 2 Years Old</td>\n",
       "      <td>WEIGHT: 2 lbs</td>\n",
       "      <td>SEX: Male</td>\n",
       "      <td>BREED: African Aquatic Sideneck Turtle</td>\n",
       "      <td>SOURCE: hatched in house</td>\n",
       "    </tr>\n",
       "    <tr>\n",
       "      <th>Hal</th>\n",
       "      <td>AGE: 1 Year Old</td>\n",
       "      <td>WEIGHT: 1.5 lbs</td>\n",
       "      <td>SEX: Female</td>\n",
       "      <td>BREED: Eastern Box Turtle</td>\n",
       "      <td>SOURCE: surrendered by owner</td>\n",
       "    </tr>\n",
       "    <tr>\n",
       "      <th>Mock</th>\n",
       "      <td>AGE: 10 Years Old</td>\n",
       "      <td>WEIGHT: 10 lbs</td>\n",
       "      <td>SEX: Male</td>\n",
       "      <td>BREED: Greek Tortoise</td>\n",
       "      <td>SOURCE: surrendered by owner</td>\n",
       "    </tr>\n",
       "    <tr>\n",
       "      <th>Sparrow</th>\n",
       "      <td>AGE: 1.5 Years Old</td>\n",
       "      <td>WEIGHT: 4.5 lbs</td>\n",
       "      <td>SEX: Female</td>\n",
       "      <td>BREED: African Aquatic Sideneck Turtle</td>\n",
       "      <td>SOURCE: found in Lake Erie</td>\n",
       "    </tr>\n",
       "  </tbody>\n",
       "</table>\n",
       "</div>"
      ],
      "text/plain": [
       "                          Age           Weight          Sex  \\\n",
       "Aesop        AGE: 7 Years Old    WEIGHT: 6 lbs  SEX: Female   \n",
       "Caesar       AGE: 2 Years Old    WEIGHT: 4 lbs    SEX: Male   \n",
       "Sulla         AGE: 1 Year Old     WEIGHT: 1 lb    SEX: Male   \n",
       "Spyro        AGE: 6 Years Old    WEIGHT: 3 lbs  SEX: Female   \n",
       "Zelda        AGE: 3 Years Old    WEIGHT: 2 lbs  SEX: Female   \n",
       "Bandicoot    AGE: 2 Years Old    WEIGHT: 2 lbs    SEX: Male   \n",
       "Hal           AGE: 1 Year Old  WEIGHT: 1.5 lbs  SEX: Female   \n",
       "Mock        AGE: 10 Years Old   WEIGHT: 10 lbs    SEX: Male   \n",
       "Sparrow    AGE: 1.5 Years Old  WEIGHT: 4.5 lbs  SEX: Female   \n",
       "\n",
       "                                            Breed  \\\n",
       "Aesop      BREED: African Aquatic Sideneck Turtle   \n",
       "Caesar                      BREED: Greek Tortoise   \n",
       "Sulla      BREED: African Aquatic Sideneck Turtle   \n",
       "Spyro                       BREED: Greek Tortoise   \n",
       "Zelda                   BREED: Eastern Box Turtle   \n",
       "Bandicoot  BREED: African Aquatic Sideneck Turtle   \n",
       "Hal                     BREED: Eastern Box Turtle   \n",
       "Mock                        BREED: Greek Tortoise   \n",
       "Sparrow    BREED: African Aquatic Sideneck Turtle   \n",
       "\n",
       "                                 Source  \n",
       "Aesop        SOURCE: found in Lake Erie  \n",
       "Caesar         SOURCE: hatched in house  \n",
       "Sulla        SOURCE: found in Lake Erie  \n",
       "Spyro          SOURCE: hatched in house  \n",
       "Zelda      SOURCE: surrendered by owner  \n",
       "Bandicoot      SOURCE: hatched in house  \n",
       "Hal        SOURCE: surrendered by owner  \n",
       "Mock       SOURCE: surrendered by owner  \n",
       "Sparrow      SOURCE: found in Lake Erie  "
      ]
     },
     "execution_count": 238,
     "metadata": {},
     "output_type": "execute_result"
    }
   ],
   "source": [
    "# View Database\n",
    "turtle_df"
   ]
  },
  {
   "cell_type": "code",
   "execution_count": 239,
   "metadata": {},
   "outputs": [],
   "source": [
    "# Find Age Column and split it by : \n",
    "df_age = turtle_df['Age'].str.split(':',expand=True)\n",
    "\n",
    "\n",
    "df_age = df_age.get(1).str.split('\\s',expand=True)\n",
    "\n",
    "# Make columns numeric by pandas code\n",
    "\n",
    "df_age = pd.to_numeric(df_age.get(1))\n",
    "\n",
    "# Assing it to Age column \n",
    "turtle_df['Age'] = df_age"
   ]
  },
  {
   "cell_type": "code",
   "execution_count": 240,
   "metadata": {},
   "outputs": [],
   "source": [
    "# Same code for weight column\n",
    "df_weight = turtle_df.Weight.str.split(':', expand=True)\n",
    "df_weight = df_weight.get(1).str.split('lb', expand=True)\n",
    "df_weight = pd.to_numeric(df_weight.get(0))\n",
    "turtle_df.Weight = df_weight\n"
   ]
  },
  {
   "cell_type": "code",
   "execution_count": 242,
   "metadata": {},
   "outputs": [],
   "source": [
    "turtle_df.Sex = turtle_df.Sex.apply(lambda x: x.split(':')[1])\n",
    "turtle_df.Breed = turtle_df.Breed.apply(lambda x: x.split(':')[1])\n",
    "turtle_df.Source = turtle_df.Source.apply(lambda x: x.split(':')[1])"
   ]
  },
  {
   "cell_type": "code",
   "execution_count": 243,
   "metadata": {},
   "outputs": [],
   "source": [
    "# Make source capital letters\n",
    "turtle_df.Source = turtle_df.Source.apply(lambda x: x.title())"
   ]
  },
  {
   "cell_type": "code",
   "execution_count": 244,
   "metadata": {
    "scrolled": false
   },
   "outputs": [
    {
     "data": {
      "text/html": [
       "<div>\n",
       "<style scoped>\n",
       "    .dataframe tbody tr th:only-of-type {\n",
       "        vertical-align: middle;\n",
       "    }\n",
       "\n",
       "    .dataframe tbody tr th {\n",
       "        vertical-align: top;\n",
       "    }\n",
       "\n",
       "    .dataframe thead th {\n",
       "        text-align: right;\n",
       "    }\n",
       "</style>\n",
       "<table border=\"1\" class=\"dataframe\">\n",
       "  <thead>\n",
       "    <tr style=\"text-align: right;\">\n",
       "      <th></th>\n",
       "      <th>Age</th>\n",
       "      <th>Weight</th>\n",
       "      <th>Sex</th>\n",
       "      <th>Breed</th>\n",
       "      <th>Source</th>\n",
       "    </tr>\n",
       "  </thead>\n",
       "  <tbody>\n",
       "    <tr>\n",
       "      <th>Aesop</th>\n",
       "      <td>7.0</td>\n",
       "      <td>6.0</td>\n",
       "      <td>Female</td>\n",
       "      <td>African Aquatic Sideneck Turtle</td>\n",
       "      <td>Found In Lake Erie</td>\n",
       "    </tr>\n",
       "    <tr>\n",
       "      <th>Caesar</th>\n",
       "      <td>2.0</td>\n",
       "      <td>4.0</td>\n",
       "      <td>Male</td>\n",
       "      <td>Greek Tortoise</td>\n",
       "      <td>Hatched In House</td>\n",
       "    </tr>\n",
       "    <tr>\n",
       "      <th>Sulla</th>\n",
       "      <td>1.0</td>\n",
       "      <td>1.0</td>\n",
       "      <td>Male</td>\n",
       "      <td>African Aquatic Sideneck Turtle</td>\n",
       "      <td>Found In Lake Erie</td>\n",
       "    </tr>\n",
       "    <tr>\n",
       "      <th>Spyro</th>\n",
       "      <td>6.0</td>\n",
       "      <td>3.0</td>\n",
       "      <td>Female</td>\n",
       "      <td>Greek Tortoise</td>\n",
       "      <td>Hatched In House</td>\n",
       "    </tr>\n",
       "    <tr>\n",
       "      <th>Zelda</th>\n",
       "      <td>3.0</td>\n",
       "      <td>2.0</td>\n",
       "      <td>Female</td>\n",
       "      <td>Eastern Box Turtle</td>\n",
       "      <td>Surrendered By Owner</td>\n",
       "    </tr>\n",
       "    <tr>\n",
       "      <th>Bandicoot</th>\n",
       "      <td>2.0</td>\n",
       "      <td>2.0</td>\n",
       "      <td>Male</td>\n",
       "      <td>African Aquatic Sideneck Turtle</td>\n",
       "      <td>Hatched In House</td>\n",
       "    </tr>\n",
       "    <tr>\n",
       "      <th>Hal</th>\n",
       "      <td>1.0</td>\n",
       "      <td>1.5</td>\n",
       "      <td>Female</td>\n",
       "      <td>Eastern Box Turtle</td>\n",
       "      <td>Surrendered By Owner</td>\n",
       "    </tr>\n",
       "    <tr>\n",
       "      <th>Mock</th>\n",
       "      <td>10.0</td>\n",
       "      <td>10.0</td>\n",
       "      <td>Male</td>\n",
       "      <td>Greek Tortoise</td>\n",
       "      <td>Surrendered By Owner</td>\n",
       "    </tr>\n",
       "    <tr>\n",
       "      <th>Sparrow</th>\n",
       "      <td>1.5</td>\n",
       "      <td>4.5</td>\n",
       "      <td>Female</td>\n",
       "      <td>African Aquatic Sideneck Turtle</td>\n",
       "      <td>Found In Lake Erie</td>\n",
       "    </tr>\n",
       "  </tbody>\n",
       "</table>\n",
       "</div>"
      ],
      "text/plain": [
       "            Age  Weight      Sex                             Breed  \\\n",
       "Aesop       7.0     6.0   Female   African Aquatic Sideneck Turtle   \n",
       "Caesar      2.0     4.0     Male                    Greek Tortoise   \n",
       "Sulla       1.0     1.0     Male   African Aquatic Sideneck Turtle   \n",
       "Spyro       6.0     3.0   Female                    Greek Tortoise   \n",
       "Zelda       3.0     2.0   Female                Eastern Box Turtle   \n",
       "Bandicoot   2.0     2.0     Male   African Aquatic Sideneck Turtle   \n",
       "Hal         1.0     1.5   Female                Eastern Box Turtle   \n",
       "Mock       10.0    10.0     Male                    Greek Tortoise   \n",
       "Sparrow     1.5     4.5   Female   African Aquatic Sideneck Turtle   \n",
       "\n",
       "                          Source  \n",
       "Aesop         Found In Lake Erie  \n",
       "Caesar          Hatched In House  \n",
       "Sulla         Found In Lake Erie  \n",
       "Spyro           Hatched In House  \n",
       "Zelda       Surrendered By Owner  \n",
       "Bandicoot       Hatched In House  \n",
       "Hal         Surrendered By Owner  \n",
       "Mock        Surrendered By Owner  \n",
       "Sparrow       Found In Lake Erie  "
      ]
     },
     "execution_count": 244,
     "metadata": {},
     "output_type": "execute_result"
    }
   ],
   "source": [
    "turtle_df"
   ]
  },
  {
   "cell_type": "code",
   "execution_count": 275,
   "metadata": {
    "scrolled": true
   },
   "outputs": [
    {
     "name": "stdout",
     "output_type": "stream",
     "text": [
      "Total ages sums up to 33.5 and average age is 3.\n"
     ]
    }
   ],
   "source": [
    "def average_age(data):\n",
    "    \"\"\"\n",
    "    Sums all ages and gives average..\n",
    "    \"\"\"\n",
    "    \n",
    "    data.values.tolist()\n",
    "    total = sum(data)\n",
    "    total_age = int(len(data))\n",
    "    total_age = int(total / total_age)\n",
    "    print('Total ages sums up to ' + str(total) + ' and average age is ' + str(total_age) + '.')\n",
    "        \n",
    "        \n",
    "average_age(turtle_df.Age)"
   ]
  },
  {
   "cell_type": "code",
   "execution_count": 288,
   "metadata": {},
   "outputs": [
    {
     "data": {
      "text/plain": [
       " Female    5\n",
       " Male      4\n",
       "Name: Sex, dtype: int64"
      ]
     },
     "execution_count": 288,
     "metadata": {},
     "output_type": "execute_result"
    }
   ],
   "source": [
    "turtle_df.Sex.value_counts()"
   ]
  },
  {
   "cell_type": "markdown",
   "metadata": {},
   "source": [
    "### Thank you for looking at my little project.\n",
    "##### Project done at 28/03/2021\n"
   ]
  }
 ],
 "metadata": {
  "kernelspec": {
   "display_name": "Python 3",
   "language": "python",
   "name": "python3"
  },
  "language_info": {
   "codemirror_mode": {
    "name": "ipython",
    "version": 3
   },
   "file_extension": ".py",
   "mimetype": "text/x-python",
   "name": "python",
   "nbconvert_exporter": "python",
   "pygments_lexer": "ipython3",
   "version": "3.8.5"
  }
 },
 "nbformat": 4,
 "nbformat_minor": 4
}
